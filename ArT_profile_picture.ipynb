{
 "cells": [
  {
   "cell_type": "markdown",
   "id": "752705e4-081e-4cde-b54b-c51b5cc998aa",
   "metadata": {
    "jp-MarkdownHeadingCollapsed": true
   },
   "source": [
    "## Imports"
   ]
  },
  {
   "cell_type": "code",
   "execution_count": 111,
   "id": "9a5a7daa-d36c-4ce0-b57c-08425ee14134",
   "metadata": {},
   "outputs": [
    {
     "data": {
      "text/plain": [
       "160"
      ]
     },
     "execution_count": 111,
     "metadata": {},
     "output_type": "execute_result"
    }
   ],
   "source": [
    "np.set_printoptions(linewidth=160)\n",
    "np.get_printoptions()['linewidth']"
   ]
  },
  {
   "cell_type": "code",
   "execution_count": 1,
   "id": "baab43d4-c140-4646-84d7-a2f53f8d22e4",
   "metadata": {},
   "outputs": [],
   "source": [
    "import numpy as np\n",
    "import pandas as pd\n",
    "from matplotlib import pyplot as plt\n",
    "from scipy.stats import linregress\n",
    "\n",
    "from datetime import datetime\n",
    "import random\n",
    "import os\n",
    "import seaborn as sns\n",
    "import importlib\n",
    "\n",
    "from PIL import Image\n",
    "from sklearn.cluster import KMeans"
   ]
  },
  {
   "cell_type": "code",
   "execution_count": 2,
   "id": "d4d56aa7-944c-4dd5-9115-858e03b21656",
   "metadata": {},
   "outputs": [],
   "source": [
    "from skimage.segmentation import slic\n",
    "from skimage.color import rgb2lab, lab2rgb\n",
    "from skimage.util import img_as_ubyte\n",
    "from skimage.measure import regionprops"
   ]
  },
  {
   "cell_type": "markdown",
   "id": "a6036b51-5d72-41a7-bbd3-59944ab52f2e",
   "metadata": {},
   "source": [
    "## Start"
   ]
  },
  {
   "cell_type": "code",
   "execution_count": 206,
   "id": "b80a4f62-ebcc-4406-a3d3-074d5ccf1eec",
   "metadata": {},
   "outputs": [],
   "source": [
    "import src.ArT_functions; import src.comic_book; import src.general_functions\n",
    "importlib.reload(src.ArT_functions); importlib.reload(src.comic_book); importlib.reload(src.general_functions);\n",
    "from src.ArT_functions import *; from src.comic_book import *; from src.general_functions import *"
   ]
  },
  {
   "cell_type": "code",
   "execution_count": 207,
   "id": "11912547-1707-4e79-b6f0-a7721e574a0c",
   "metadata": {},
   "outputs": [],
   "source": [
    "input_image_path = 'input/1705_JesseMetz1439.jpg'\n",
    "output_image_path = 'output/output_image.jpg'\n",
    "input_image = extract_square(input_image_path, target_size=1000)"
   ]
  },
  {
   "cell_type": "markdown",
   "id": "c7c85729-e364-4cdf-b0a6-67c9612e2eb5",
   "metadata": {},
   "source": [
    "## Move boxes"
   ]
  },
  {
   "cell_type": "code",
   "execution_count": 211,
   "id": "e030f7d5-7663-4a2d-b6b5-fd35d3526d1c",
   "metadata": {},
   "outputs": [],
   "source": [
    "import numpy as np\n",
    "from PIL import Image\n",
    "import random\n",
    "\n",
    "\n",
    "def resize_to_shape(image, target_shape):\n",
    "    \"\"\"\n",
    "    Resize an image (numpy array) to match the target shape.\n",
    "    \"\"\"\n",
    "    return np.array(Image.fromarray(image).resize((target_shape[1], target_shape[0]), PIL.Image.LANCZOS))\n",
    "\n",
    "\n",
    "def rotate_fragment(fragment, mask, angle):\n",
    "    \"\"\"\n",
    "    Rotate a fragment and its corresponding mask by the given angle.\n",
    "    \"\"\"\n",
    "    fragment_img = Image.fromarray(fragment)  # Convert to PIL image\n",
    "    mask_img = Image.fromarray(mask.astype(np.uint8) * 255)  # Convert mask to image\n",
    "    \n",
    "    # Rotate both fragment and mask\n",
    "    rotated_fragment = fragment_img.rotate(angle, resample=Image.BICUBIC, expand=False)\n",
    "    rotated_mask = mask_img.rotate(angle, resample=Image.BILINEAR, expand=False)\n",
    "\n",
    "    # Convert rotated images back to numpy arrays\n",
    "    rotated_fragment_arr = np.array(rotated_fragment)\n",
    "    rotated_mask_arr = np.array(rotated_mask) > 128  # Threshold to get the binary mask\n",
    "    \n",
    "    return rotated_fragment_arr, rotated_mask_arr\n",
    "\n",
    "\n",
    "def alter_image_shapes_rotation(image, num_fragments=50, offset_ratio=0.25, shape_type=\"circle\", \n",
    "                                shape_rotation=False, fragment_rotation=False):\n",
    "    \"\"\"\n",
    "    Alter an image by cutting it into fragments of a given shape and applying rotation to each fragment and/or shape.\n",
    "    \"\"\"\n",
    "    arr = np.array(image)\n",
    "    fragment_size = 20  # Size of each fragment block\n",
    "    offset_max = 5  # Maximum offset to move fragments\n",
    "\n",
    "    # Get dimensions\n",
    "    rows, cols, _ = arr.shape\n",
    "\n",
    "    fragment_size = cols // num_fragments\n",
    "    offset_max = int(fragment_size * offset_ratio)\n",
    "\n",
    "    # Create an output array (copy of the original image)\n",
    "    fragmented_arr = arr.copy()\n",
    "\n",
    "    # Shape definition for masks (circle, square, triangle, etc.)\n",
    "    def generate_mask(shape, height, width):\n",
    "        mask = np.zeros((height, width), dtype=bool)\n",
    "        center_y, center_x = height // 2, width // 2\n",
    "        \n",
    "        if shape == \"circle\":\n",
    "            yy, xx = np.ogrid[:height, :width]\n",
    "            mask = (xx - center_x) ** 2 + (yy - center_y) ** 2 <= (min(center_x, center_y) ** 2)\n",
    "        \n",
    "        elif shape == \"square\":\n",
    "            mask[height // 4:3 * height // 4, width // 4:3 * width // 4] = True\n",
    "        \n",
    "        elif shape == \"triangle\":\n",
    "            for y in range(height):\n",
    "                for x in range(width):\n",
    "                    if x >= width // 2 - y and x <= width // 2 + y and y <= height // 2:\n",
    "                        mask[y, x] = True\n",
    "        \n",
    "        elif shape == \"pentagon\":\n",
    "            for y in range(height):\n",
    "                for x in range(width):\n",
    "                    if (x - center_x) ** 2 + (y - center_y) ** 2 <= (min(center_x, center_y) ** 2):\n",
    "                        mask[y, x] = True\n",
    "        \n",
    "        return mask\n",
    "\n",
    "    # Iterate over the array in blocks\n",
    "    for i in range(0, rows, fragment_size):\n",
    "        for j in range(0, cols, fragment_size):\n",
    "            # Define the fragment boundaries\n",
    "            end_row = min(i + fragment_size, rows)\n",
    "            end_col = min(j + fragment_size, cols)\n",
    "\n",
    "            # Random offset for the fragment\n",
    "            offset_row = np.random.randint(-offset_max, offset_max + 1)\n",
    "            offset_col = np.random.randint(-offset_max, offset_max + 1)\n",
    "\n",
    "            # Make sure the offset doesn't move the fragment out of the image boundaries\n",
    "            start_row_output = max(0, min(rows, i + offset_row))\n",
    "            start_col_output = max(0, min(cols, j + offset_col))\n",
    "            end_row_output = max(0, min(rows, start_row_output + (end_row - i)))\n",
    "            end_col_output = max(0, min(cols, start_col_output + (end_col - j)))\n",
    "\n",
    "            # Calculate actual fragment dimensions\n",
    "            fragment_height = end_row - i\n",
    "            fragment_width = end_col - j\n",
    "\n",
    "            # Generate the mask based on the desired shape\n",
    "            mask = generate_mask(shape_type, fragment_height, fragment_width)\n",
    "\n",
    "            # Extract the fragment\n",
    "            fragment = arr[i:end_row, j:end_col]\n",
    "\n",
    "            # If shape_rotation is enabled, rotate the shape and adjust the mask accordingly\n",
    "            if shape_rotation:\n",
    "                angle = np.random.uniform(0, 360)\n",
    "                rotated_fragment, rotated_mask = rotate_fragment(fragment, mask, angle)\n",
    "\n",
    "                # Resize the rotated mask and fragment to match the original fragment size\n",
    "                if rotated_mask.shape != fragment.shape:\n",
    "                    rotated_mask_resized = resize_to_shape(rotated_mask, fragment.shape)\n",
    "                else:\n",
    "                    rotated_mask_resized = rotated_mask\n",
    "\n",
    "                # Apply the rotated (and resized) mask to the rotated fragment\n",
    "                destination = fragmented_arr[start_row_output:end_row_output, start_col_output:end_col_output]\n",
    "                destination[rotated_mask_resized] = rotated_fragment[rotated_mask_resized]\n",
    "\n",
    "            else:\n",
    "                # If shape_rotation is disabled, use the original fragment and mask without rotation\n",
    "                if mask.shape != fragment.shape:\n",
    "                    mask_resized = resize_to_shape(mask, fragment.shape)\n",
    "                else:\n",
    "                    mask_resized = mask\n",
    "\n",
    "                # Apply the resized mask to the original fragment\n",
    "                destination = fragmented_arr[start_row_output:end_row_output, start_col_output:end_col_output]\n",
    "                destination[mask_resized] = fragment[mask_resized]\n",
    "\n",
    "            # If fragment_rotation is enabled, rotate the fragment itself\n",
    "            if fragment_rotation:\n",
    "                fragment = np.array(Image.fromarray(fragment).rotate(np.random.uniform(-15, 15), resample=Image.BICUBIC))\n",
    "\n",
    "                # Apply the rotated fragment\n",
    "                fragmented_arr[start_row_output:end_row_output, start_col_output:end_col_output] = fragment\n",
    "\n",
    "    # Create the output image from the array\n",
    "    fragmented_img = Image.fromarray(fragmented_arr)\n",
    "    return fragmented_img\n"
   ]
  },
  {
   "cell_type": "code",
   "execution_count": 212,
   "id": "39b4db16-b4cf-4951-897f-8908e7d5985f",
   "metadata": {},
   "outputs": [
    {
     "ename": "NameError",
     "evalue": "name 'PIL' is not defined",
     "output_type": "error",
     "traceback": [
      "\u001b[1;31m---------------------------------------------------------------------------\u001b[0m",
      "\u001b[1;31mNameError\u001b[0m                                 Traceback (most recent call last)",
      "Cell \u001b[1;32mIn[212], line 1\u001b[0m\n\u001b[1;32m----> 1\u001b[0m altered_image \u001b[38;5;241m=\u001b[39m \u001b[43malter_image_shapes_rotation\u001b[49m\u001b[43m(\u001b[49m\u001b[43minput_image\u001b[49m\u001b[43m,\u001b[49m\u001b[43m \u001b[49m\u001b[43mnum_fragments\u001b[49m\u001b[38;5;241;43m=\u001b[39;49m\u001b[38;5;241;43m50\u001b[39;49m\u001b[43m,\u001b[49m\u001b[43m \u001b[49m\u001b[43moffset_ratio\u001b[49m\u001b[38;5;241;43m=\u001b[39;49m\u001b[38;5;241;43m0.25\u001b[39;49m\u001b[43m,\u001b[49m\u001b[43m \u001b[49m\n\u001b[0;32m      2\u001b[0m \u001b[43m                                            \u001b[49m\u001b[43mshape_type\u001b[49m\u001b[38;5;241;43m=\u001b[39;49m\u001b[38;5;124;43m\"\u001b[39;49m\u001b[38;5;124;43mtriangle\u001b[39;49m\u001b[38;5;124;43m\"\u001b[39;49m\u001b[43m,\u001b[49m\u001b[43m \u001b[49m\u001b[43mshape_rotation\u001b[49m\u001b[38;5;241;43m=\u001b[39;49m\u001b[38;5;28;43;01mTrue\u001b[39;49;00m\u001b[43m,\u001b[49m\u001b[43m \u001b[49m\u001b[43mfragment_rotation\u001b[49m\u001b[38;5;241;43m=\u001b[39;49m\u001b[38;5;28;43;01mTrue\u001b[39;49;00m\u001b[43m)\u001b[49m\n\u001b[0;32m      3\u001b[0m altered_image\n",
      "Cell \u001b[1;32mIn[211], line 109\u001b[0m, in \u001b[0;36malter_image_shapes_rotation\u001b[1;34m(image, num_fragments, offset_ratio, shape_type, shape_rotation, fragment_rotation)\u001b[0m\n\u001b[0;32m    107\u001b[0m \u001b[38;5;66;03m# Resize the rotated mask and fragment to match the original fragment size\u001b[39;00m\n\u001b[0;32m    108\u001b[0m \u001b[38;5;28;01mif\u001b[39;00m rotated_mask\u001b[38;5;241m.\u001b[39mshape \u001b[38;5;241m!=\u001b[39m fragment\u001b[38;5;241m.\u001b[39mshape:\n\u001b[1;32m--> 109\u001b[0m     rotated_mask_resized \u001b[38;5;241m=\u001b[39m \u001b[43mresize_to_shape\u001b[49m\u001b[43m(\u001b[49m\u001b[43mrotated_mask\u001b[49m\u001b[43m,\u001b[49m\u001b[43m \u001b[49m\u001b[43mfragment\u001b[49m\u001b[38;5;241;43m.\u001b[39;49m\u001b[43mshape\u001b[49m\u001b[43m)\u001b[49m\n\u001b[0;32m    110\u001b[0m \u001b[38;5;28;01melse\u001b[39;00m:\n\u001b[0;32m    111\u001b[0m     rotated_mask_resized \u001b[38;5;241m=\u001b[39m rotated_mask\n",
      "Cell \u001b[1;32mIn[211], line 10\u001b[0m, in \u001b[0;36mresize_to_shape\u001b[1;34m(image, target_shape)\u001b[0m\n\u001b[0;32m      6\u001b[0m \u001b[38;5;28;01mdef\u001b[39;00m \u001b[38;5;21mresize_to_shape\u001b[39m(image, target_shape):\n\u001b[0;32m      7\u001b[0m \u001b[38;5;250m    \u001b[39m\u001b[38;5;124;03m\"\"\"\u001b[39;00m\n\u001b[0;32m      8\u001b[0m \u001b[38;5;124;03m    Resize an image (numpy array) to match the target shape.\u001b[39;00m\n\u001b[0;32m      9\u001b[0m \u001b[38;5;124;03m    \"\"\"\u001b[39;00m\n\u001b[1;32m---> 10\u001b[0m     \u001b[38;5;28;01mreturn\u001b[39;00m np\u001b[38;5;241m.\u001b[39marray(Image\u001b[38;5;241m.\u001b[39mfromarray(image)\u001b[38;5;241m.\u001b[39mresize((target_shape[\u001b[38;5;241m1\u001b[39m], target_shape[\u001b[38;5;241m0\u001b[39m]), \u001b[43mPIL\u001b[49m\u001b[38;5;241m.\u001b[39mImage\u001b[38;5;241m.\u001b[39mLANCZOS))\n",
      "\u001b[1;31mNameError\u001b[0m: name 'PIL' is not defined"
     ]
    }
   ],
   "source": [
    "altered_image = alter_image_shapes_rotation(input_image, num_fragments=50, offset_ratio=0.25, \n",
    "                                            shape_type=\"triangle\", shape_rotation=True, fragment_rotation=True)\n",
    "altered_image"
   ]
  },
  {
   "cell_type": "code",
   "execution_count": 208,
   "id": "f36a2c5a-ea8e-4a95-ad85-0ba31e560417",
   "metadata": {},
   "outputs": [
    {
     "ename": "IndexError",
     "evalue": "boolean index did not match indexed array along axis 1; size of axis is 22 but size of corresponding boolean axis is 100",
     "output_type": "error",
     "traceback": [
      "\u001b[1;31m---------------------------------------------------------------------------\u001b[0m",
      "\u001b[1;31mIndexError\u001b[0m                                Traceback (most recent call last)",
      "Cell \u001b[1;32mIn[208], line 5\u001b[0m\n\u001b[0;32m      1\u001b[0m \u001b[38;5;66;03m# np.random.seed(46)\u001b[39;00m\n\u001b[0;32m      2\u001b[0m \u001b[38;5;66;03m# altered_image = alter_image_init(input_image, num_fragments=100, offset_ratio=.1)\u001b[39;00m\n\u001b[0;32m      3\u001b[0m \u001b[38;5;66;03m# altered_image = alter_image_init_circles(input_image, num_fragments=10, offset_ratio=0.1)\u001b[39;00m\n\u001b[0;32m      4\u001b[0m \u001b[38;5;66;03m# altered_image = alter_image_shapes_old(input_image, fragments_size_fraction=10, offset_ratio=0.5, shape_type='triangle')\u001b[39;00m\n\u001b[1;32m----> 5\u001b[0m altered_image \u001b[38;5;241m=\u001b[39m \u001b[43malter_image_shapes_rotation\u001b[49m\u001b[43m(\u001b[49m\u001b[43minput_image\u001b[49m\u001b[43m,\u001b[49m\u001b[43m \u001b[49m\u001b[43mfragments_size_fraction\u001b[49m\u001b[38;5;241;43m=\u001b[39;49m\u001b[38;5;241;43m10\u001b[39;49m\u001b[43m,\u001b[49m\u001b[43m \u001b[49m\u001b[43moffset_ratio\u001b[49m\u001b[38;5;241;43m=\u001b[39;49m\u001b[38;5;241;43m1\u001b[39;49m\u001b[43m,\u001b[49m\u001b[43m \u001b[49m\u001b[43mshape_type\u001b[49m\u001b[38;5;241;43m=\u001b[39;49m\u001b[38;5;124;43m\"\u001b[39;49m\u001b[38;5;124;43mtriangle\u001b[39;49m\u001b[38;5;124;43m\"\u001b[39;49m\u001b[43m,\u001b[49m\u001b[43m \u001b[49m\u001b[43mshape_rotation\u001b[49m\u001b[38;5;241;43m=\u001b[39;49m\u001b[38;5;28;43;01mTrue\u001b[39;49;00m\u001b[43m,\u001b[49m\u001b[43m \u001b[49m\u001b[43mfragment_rotation\u001b[49m\u001b[38;5;241;43m=\u001b[39;49m\u001b[38;5;28;43;01mFalse\u001b[39;49;00m\u001b[43m)\u001b[49m\n\u001b[0;32m      6\u001b[0m \u001b[38;5;66;03m# altered_image = alter_image_boxes_away_from_center(input_image, num_rectangles=1000)\u001b[39;00m\n\u001b[0;32m      7\u001b[0m \u001b[38;5;66;03m# altered_image = alter_image_boxes(input_image, num_rectangles=10000, magnitude=.1)\u001b[39;00m\n\u001b[0;32m      8\u001b[0m \u001b[38;5;66;03m# save_image_with_unique_name(altered_image, output_image_path)\u001b[39;00m\n\u001b[0;32m      9\u001b[0m altered_image\n",
      "File \u001b[1;32m~\\OneDrive - Sonepar\\Bureaublad\\Personal\\code\\PortraitGPT\\src\\ArT_functions.py:80\u001b[0m, in \u001b[0;36malter_image_shapes_rotation\u001b[1;34m(image, fragments_size_fraction, offset_ratio, shape_type, shape_rotation, fragment_rotation)\u001b[0m\n\u001b[0;32m     77\u001b[0m             mask_resized \u001b[38;5;241m=\u001b[39m mask\n\u001b[0;32m     79\u001b[0m         \u001b[38;5;66;03m# Apply the resized mask to the fragment and copy to destination\u001b[39;00m\n\u001b[1;32m---> 80\u001b[0m         \u001b[43mdestination\u001b[49m\u001b[43m[\u001b[49m\u001b[43mmask_resized\u001b[49m\u001b[43m]\u001b[49m \u001b[38;5;241m=\u001b[39m fragment[mask_resized]\n\u001b[0;32m     82\u001b[0m \u001b[38;5;66;03m# Create the output image from the array\u001b[39;00m\n\u001b[0;32m     83\u001b[0m fragmented_img \u001b[38;5;241m=\u001b[39m Image\u001b[38;5;241m.\u001b[39mfromarray(fragmented_arr)\n",
      "\u001b[1;31mIndexError\u001b[0m: boolean index did not match indexed array along axis 1; size of axis is 22 but size of corresponding boolean axis is 100"
     ]
    }
   ],
   "source": [
    "# np.random.seed(46)\n",
    "# altered_image = alter_image_init(input_image, num_fragments=100, offset_ratio=.1)\n",
    "# altered_image = alter_image_init_circles(input_image, num_fragments=10, offset_ratio=0.1)\n",
    "# altered_image = alter_image_shapes_old(input_image, fragments_size_fraction=10, offset_ratio=0.5, shape_type='triangle')\n",
    "altered_image = alter_image_shapes_rotation(input_image, fragments_size_fraction=10, offset_ratio=1, shape_type=\"triangle\", shape_rotation=True, fragment_rotation=False)\n",
    "# altered_image = alter_image_boxes_away_from_center(input_image, num_rectangles=1000)\n",
    "# altered_image = alter_image_boxes(input_image, num_rectangles=10000, magnitude=.1)\n",
    "# save_image_with_unique_name(altered_image, output_image_path)\n",
    "altered_image"
   ]
  },
  {
   "cell_type": "code",
   "execution_count": null,
   "id": "d8dc4f65-1bdb-46ac-be01-81847efafac5",
   "metadata": {},
   "outputs": [],
   "source": []
  },
  {
   "cell_type": "code",
   "execution_count": null,
   "id": "a6f1adf8-cc29-49ae-9e07-e319bb8353a7",
   "metadata": {},
   "outputs": [],
   "source": []
  },
  {
   "cell_type": "code",
   "execution_count": null,
   "id": "e3b8c697-3456-42ce-a19a-bea69000080c",
   "metadata": {},
   "outputs": [],
   "source": []
  },
  {
   "cell_type": "markdown",
   "id": "667e8768-4f9f-46d3-bb3f-4678da8c26cb",
   "metadata": {
    "jp-MarkdownHeadingCollapsed": true
   },
   "source": [
    "## Segments"
   ]
  },
  {
   "cell_type": "code",
   "execution_count": 6,
   "id": "ad2f1b53-894f-46a4-9115-6da9a1649ae1",
   "metadata": {},
   "outputs": [],
   "source": [
    "def segment_image_with_background(img, number_of_regions, background_color=(255, 255, 255), region_size_factor=5):\n",
    "    img_array = np.array(img)\n",
    "\n",
    "    # Convert image to LAB color space for better segmentation\n",
    "    img_lab = rgb2lab(img_array)\n",
    "\n",
    "    # Calculate the maximum size per region based on the image width\n",
    "    max_region_size = img.width // region_size_factor\n",
    "\n",
    "    # Perform SLIC segmentation\n",
    "    segments = slic(\n",
    "        img_lab,\n",
    "        n_segments=number_of_regions,\n",
    "        compactness=10, \n",
    "        max_size_factor=max_region_size,\n",
    "        start_label=1,\n",
    "    )\n",
    "\n",
    "    # Identify the largest region as the background\n",
    "    regions = regionprops(segments)\n",
    "    largest_region = max(regions, key=lambda r: r.area)\n",
    "    \n",
    "    # Create a new image and fill with random colors and background color\n",
    "    segmented_img = np.zeros_like(img_array)\n",
    "    for region in regions:\n",
    "        coords = region.coords\n",
    "        if region.label == largest_region.label:\n",
    "            segmented_img[coords[:, 0], coords[:, 1]] = background_color  # Set background color\n",
    "        else:\n",
    "            random_color = np.random.randint(0, 256, size=3)  # Assign random colors to other regions\n",
    "            segmented_img[coords[:, 0], coords[:, 1]] = random_color\n",
    "\n",
    "    # Convert back to PIL image\n",
    "    segmented_img_pil = Image.fromarray(img_as_ubyte(segmented_img))\n",
    "    return segmented_img_pil"
   ]
  },
  {
   "cell_type": "code",
   "execution_count": 7,
   "id": "1a453683-fe4b-4ee0-91e1-931704883ff6",
   "metadata": {},
   "outputs": [],
   "source": [
    "background_img = segment_image_with_background(input_image, number_of_regions=100, background_color=(255, 255, 255))\n",
    "# save_image_with_unique_name(background_img, output_image_path)\n",
    "# background_img"
   ]
  },
  {
   "cell_type": "code",
   "execution_count": null,
   "id": "da8bb9f4-78be-4c3f-80cb-28f85788db03",
   "metadata": {},
   "outputs": [],
   "source": []
  },
  {
   "cell_type": "code",
   "execution_count": 8,
   "id": "0ba5ab66-37e9-41d6-a8d6-cd5ac27f62af",
   "metadata": {},
   "outputs": [],
   "source": [
    "def segment_image_with_spatial_constraints(img, number_of_regions, region_size_factor=5, color_style=\"colors\"):\n",
    "    img_array = np.array(img)\n",
    "\n",
    "    # Convert image to LAB color space for better color segmentation\n",
    "    img_lab = rgb2lab(img_array)\n",
    "\n",
    "    # Calculate the maximum size per region based on the image width\n",
    "    max_region_size = img.width // region_size_factor\n",
    "    \n",
    "    # Perform SLIC segmentation\n",
    "    segments = slic(\n",
    "        img_lab,\n",
    "        n_segments=number_of_regions,\n",
    "        compactness=10,  # Balances color similarity and spatial proximity; adjust if needed\n",
    "        max_size_factor=max_region_size,\n",
    "        start_label=1,\n",
    "    )\n",
    "\n",
    "    # Replace each segment with a random color\n",
    "    if color_style == \"colors\":  # Random colors\n",
    "        segmented_img = np.zeros_like(img_array)\n",
    "        for region in regionprops(segments):\n",
    "            coords = region.coords\n",
    "            random_color = np.random.randint(0, 256, size=3)  # Generate a random RGB color\n",
    "            segmented_img[coords[:, 0], coords[:, 1]] = random_color\n",
    "    else:  # \n",
    "        segmented_img = np.zeros_like(img_array)\n",
    "        for region in regionprops(segments):\n",
    "            # Get pixel indices for each region\n",
    "            coords = region.coords\n",
    "            # Average the color of each region\n",
    "            average_color = np.mean(img_array[coords[:, 0], coords[:, 1]], axis=0)\n",
    "            # Fill the region with the average color\n",
    "            segmented_img[coords[:, 0], coords[:, 1]] = average_color\n",
    "\n",
    "    # Convert back to PIL image\n",
    "    segmented_img_pil = Image.fromarray(img_as_ubyte(segmented_img))\n",
    "    return segmented_img_pil"
   ]
  },
  {
   "cell_type": "code",
   "execution_count": 9,
   "id": "c0811828-f69e-4bcd-8ac9-9f22d813ec40",
   "metadata": {},
   "outputs": [],
   "source": [
    "segmented_img = segment_image_with_spatial_constraints(input_image, number_of_regions=3, color_style=\"colors\")\n",
    "\n",
    "# save_image_with_unique_name(segmented_img, output_image_path)\n",
    "# segmented_img"
   ]
  },
  {
   "cell_type": "code",
   "execution_count": null,
   "id": "dc93ce67-7b86-46f6-80e9-f8941e6bb8ee",
   "metadata": {},
   "outputs": [],
   "source": []
  },
  {
   "cell_type": "code",
   "execution_count": 10,
   "id": "66258ed1-c9ca-411a-b75a-99acf938f34c",
   "metadata": {},
   "outputs": [],
   "source": [
    "def segment_and_average(img, number_of_regions):\n",
    "    img_array = np.array(img)\n",
    "    \n",
    "    # Reshape the array into (number of pixels, 3) for RGB\n",
    "    pixels = img_array.reshape(-1, 3)\n",
    "    \n",
    "    # Apply K-Means clustering\n",
    "    kmeans = KMeans(n_clusters=number_of_regions, random_state=42)\n",
    "    kmeans.fit(pixels)\n",
    "    \n",
    "    # Get cluster centers (average colors) and labels (which cluster each pixel belongs to)\n",
    "    average_colors = kmeans.cluster_centers_.astype(int)\n",
    "    labels = kmeans.labels_\n",
    "    \n",
    "    # Replace pixel colors with the average color of their cluster\n",
    "    segmented_pixels = average_colors[labels]\n",
    "    \n",
    "    # Reshape the array back to the original image shape\n",
    "    segmented_img_array = segmented_pixels.reshape(img_array.shape)\n",
    "    \n",
    "    # Convert back to PIL Image\n",
    "    segmented_img = Image.fromarray(segmented_img_array.astype('uint8'))\n",
    "    return segmented_img"
   ]
  },
  {
   "cell_type": "code",
   "execution_count": 11,
   "id": "664e1349-e949-4d91-93c5-24854c885f42",
   "metadata": {},
   "outputs": [],
   "source": [
    "segmented_img = segment_and_average(input_image, number_of_regions=3)\n",
    "# save_image_with_unique_name(segmented_img, output_image_path)\n",
    "# segmented_img"
   ]
  },
  {
   "cell_type": "code",
   "execution_count": null,
   "id": "075b009c-1a4a-449d-8afb-1981cba83632",
   "metadata": {},
   "outputs": [],
   "source": []
  },
  {
   "cell_type": "code",
   "execution_count": null,
   "id": "e34bade9-86e1-4c0e-85bd-06f726644d84",
   "metadata": {},
   "outputs": [],
   "source": []
  },
  {
   "cell_type": "code",
   "execution_count": null,
   "id": "ab49fa7e-be81-4384-804d-7df6b05c26c8",
   "metadata": {},
   "outputs": [],
   "source": []
  },
  {
   "cell_type": "code",
   "execution_count": null,
   "id": "224d1827-3d09-4b11-8544-7adc2825f573",
   "metadata": {},
   "outputs": [],
   "source": []
  },
  {
   "cell_type": "code",
   "execution_count": null,
   "id": "8fb07451-201b-4982-a7ef-c55ec2ad1374",
   "metadata": {},
   "outputs": [],
   "source": []
  },
  {
   "cell_type": "code",
   "execution_count": null,
   "id": "5cf7f708-0580-42fc-b0c9-07fbf4bf3213",
   "metadata": {},
   "outputs": [],
   "source": []
  },
  {
   "cell_type": "code",
   "execution_count": null,
   "id": "b3d1a681-3c3d-4c92-b454-9ec4ff60638f",
   "metadata": {},
   "outputs": [],
   "source": []
  },
  {
   "cell_type": "code",
   "execution_count": null,
   "id": "7838b48b-6437-43ad-9c1c-160472279e4e",
   "metadata": {},
   "outputs": [],
   "source": []
  },
  {
   "cell_type": "code",
   "execution_count": null,
   "id": "34a97d59-5da1-40e7-8e23-78545e910f5b",
   "metadata": {},
   "outputs": [],
   "source": []
  },
  {
   "cell_type": "code",
   "execution_count": null,
   "id": "2a8b4153-4f51-43b2-a4ed-dc62dd12715f",
   "metadata": {},
   "outputs": [],
   "source": []
  },
  {
   "cell_type": "code",
   "execution_count": null,
   "id": "9569c097-a490-47d7-94ee-a253cf4dba22",
   "metadata": {},
   "outputs": [],
   "source": []
  }
 ],
 "metadata": {
  "kernelspec": {
   "display_name": "Python 3 (ipykernel)",
   "language": "python",
   "name": "python3"
  },
  "language_info": {
   "codemirror_mode": {
    "name": "ipython",
    "version": 3
   },
   "file_extension": ".py",
   "mimetype": "text/x-python",
   "name": "python",
   "nbconvert_exporter": "python",
   "pygments_lexer": "ipython3",
   "version": "3.12.3"
  }
 },
 "nbformat": 4,
 "nbformat_minor": 5
}
