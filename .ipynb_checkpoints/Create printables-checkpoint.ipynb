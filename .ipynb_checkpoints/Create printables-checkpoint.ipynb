{
 "cells": [
  {
   "cell_type": "markdown",
   "id": "4adf5c58-9132-448b-bd02-286f3bc9ffcd",
   "metadata": {
    "jp-MarkdownHeadingCollapsed": true
   },
   "source": [
    "## Imports"
   ]
  },
  {
   "cell_type": "code",
   "execution_count": 34,
   "id": "850bcbbd-e745-4589-bc95-7d071c51fecb",
   "metadata": {},
   "outputs": [],
   "source": [
    "import numpy as np\n",
    "import pandas as pd\n",
    "from matplotlib import pyplot as plt\n",
    "import random\n",
    "import os\n",
    "import importlib\n",
    "\n",
    "from PIL import Image\n",
    "from reportlab.pdfgen import canvas\n",
    "from reportlab.lib.pagesizes import A4, landscape\n",
    "from reportlab.lib.utils import ImageReader"
   ]
  },
  {
   "cell_type": "code",
   "execution_count": 35,
   "id": "d8f8c694-44da-4924-b0a3-7284474b946b",
   "metadata": {},
   "outputs": [],
   "source": [
    "import src.general_functions\n",
    "importlib.reload(src.general_functions)\n",
    "from src.general_functions import *"
   ]
  },
  {
   "cell_type": "code",
   "execution_count": null,
   "id": "a4b25d82-9e99-401c-b89c-5c3b1d3f91e6",
   "metadata": {},
   "outputs": [],
   "source": []
  },
  {
   "cell_type": "markdown",
   "id": "857bc7f9-f124-4800-9253-757ce1a312f2",
   "metadata": {},
   "source": [
    "# go"
   ]
  },
  {
   "cell_type": "code",
   "execution_count": null,
   "id": "e2aad9c7-3177-41a9-b96b-0358f9148bd0",
   "metadata": {},
   "outputs": [],
   "source": []
  },
  {
   "cell_type": "markdown",
   "id": "93d5575c-e81f-4d3f-9142-e675eed04a99",
   "metadata": {
    "jp-MarkdownHeadingCollapsed": true
   },
   "source": [
    "## Input is number of pictures"
   ]
  },
  {
   "cell_type": "code",
   "execution_count": null,
   "id": "fb0590c2-376e-4a43-a737-3256a11fe9f7",
   "metadata": {},
   "outputs": [],
   "source": []
  },
  {
   "cell_type": "code",
   "execution_count": null,
   "id": "a1204c46-d77f-44bf-b95a-9a629ae1e56c",
   "metadata": {},
   "outputs": [
    {
     "name": "stdout",
     "output_type": "stream",
     "text": [
      "PDF saved as output_2.pdf\n"
     ]
    }
   ],
   "source": [
    "input_folder = \"output/FransHals/top6/\"\n",
    "output_pdf = create_unique_file_name(\"output/FransHals/printables/output.pdf\")\n",
    "\n",
    "images_per_page = 6\n",
    "a4_width, a4_height = A4\n",
    "grid_cols = 2  # 2 images per row\n",
    "grid_rows = 3  # 3 images per column\n",
    "page_margin = 20  # Space around the entire page\n",
    "image_spacing = 15  # Space between images\n",
    "\n",
    "# Get all images\n",
    "image_files = sorted([f for f in os.listdir(input_folder) if f.endswith(('.png', '.jpg', '.jpeg'))])\n",
    "random.shuffle(image_files)\n",
    "\n",
    "# Calculate image size with spacing\n",
    "usable_width = a4_width - 2 * page_margin - (grid_cols - 1) * image_spacing\n",
    "usable_height = a4_height - 2 * page_margin - (grid_rows - 1) * image_spacing\n",
    "img_width = usable_width // grid_cols\n",
    "img_height = usable_height // grid_rows\n",
    "\n",
    "# Create PDF\n",
    "c = canvas.Canvas(output_pdf, pagesize=A4)\n",
    "\n",
    "for i in range(0, len(image_files), images_per_page):\n",
    "    images = image_files[i:i + images_per_page]  # Get correct images for this page\n",
    "\n",
    "    for index, image_name in enumerate(images):\n",
    "        img = Image.open(os.path.join(input_folder, image_name))\n",
    "        img = img.resize((int(img_width), int(img_height)), Image.Resampling.LANCZOS)\n",
    "\n",
    "        # Calculate position with spacing\n",
    "        col = index % grid_cols\n",
    "        row = index // grid_cols\n",
    "        x = page_margin + col * (img_width + image_spacing)\n",
    "        y = a4_height - page_margin - (row + 1) * img_height - row * image_spacing  # Adjust for spacing\n",
    "\n",
    "        # Draw image directly onto PDF without saving temp files\n",
    "        c.drawInlineImage(img, x, y, width=img_width, height=img_height)\n",
    "\n",
    "    c.showPage()  # Move to the next page\n",
    "\n",
    "# Save the final PDF\n",
    "c.save()\n",
    "\n",
    "print(f\"PDF saved as {output_pdf}\")"
   ]
  },
  {
   "cell_type": "code",
   "execution_count": 6,
   "id": "969e7380-a1ba-4d83-b11f-4b3c08e7f778",
   "metadata": {},
   "outputs": [],
   "source": [
    "# image_files"
   ]
  },
  {
   "cell_type": "code",
   "execution_count": null,
   "id": "cc3e8769-7d99-40dd-8440-8cd1c30c5641",
   "metadata": {},
   "outputs": [],
   "source": []
  },
  {
   "cell_type": "markdown",
   "id": "471fbe5d-3994-42c0-95d8-ae9bb33c98a9",
   "metadata": {},
   "source": [
    "## Input is size of pictures"
   ]
  },
  {
   "cell_type": "code",
   "execution_count": 30,
   "id": "fff83695-df38-448c-83c2-e55dd8b38adc",
   "metadata": {},
   "outputs": [],
   "source": [
    "def create_image_grid_pdf(input_folder, output_pdf, image_width_cm, h_spacing_cm=1.0, v_spacing_cm=1.0, random_shuffle=True):\n",
    "    # Constants and conversions\n",
    "    CM_TO_POINTS = 28.35  # 1 cm = 28.35 points in PDF\n",
    "    \n",
    "    # Convert image width from cm to points\n",
    "    img_width = img_height = image_width_cm * CM_TO_POINTS\n",
    "    \n",
    "    # A4 dimensions in landscape and setup\n",
    "    a4_width, a4_height = landscape(A4)  # A4 in landscape mode\n",
    "    page_margin = 5  # Space around the entire page in points\n",
    "    \n",
    "    # Convert spacing from cm to points\n",
    "    h_spacing = h_spacing_cm * CM_TO_POINTS  # Horizontal spacing between images\n",
    "    v_spacing = v_spacing_cm * CM_TO_POINTS  # Vertical spacing between images\n",
    "    \n",
    "    # Calculate grid dimensions based on image size\n",
    "    usable_width = a4_width - 2 * page_margin\n",
    "    usable_height = a4_height - 2 * page_margin\n",
    "    \n",
    "    # Calculate how many images can fit in a row and column\n",
    "    grid_cols = max(1, int((usable_width + h_spacing) / (img_width + h_spacing)))\n",
    "    grid_rows = max(1, int((usable_height + v_spacing) / (img_height + v_spacing)))\n",
    "    images_per_page = grid_cols * grid_rows\n",
    "    \n",
    "    print(f\"Grid layout: {grid_cols} columns × {grid_rows} rows = {images_per_page} images per page\")\n",
    "    print(f\"Image size: {image_width_cm} cm × {image_width_cm} cm\")\n",
    "    print(f\"Spacing: {h_spacing_cm} cm horizontal, {v_spacing_cm} cm vertical\")\n",
    "    \n",
    "    # Get all images\n",
    "    image_files = sorted([f for f in os.listdir(input_folder) if f.endswith(('.png', '.jpg', '.jpeg'))])\n",
    "    if random_shuffle:\n",
    "        random.shuffle(image_files)\n",
    "    \n",
    "    # Create PDF\n",
    "    c = canvas.Canvas(output_pdf, pagesize=landscape(A4))\n",
    "    \n",
    "    for i in range(0, len(image_files), images_per_page):\n",
    "        images = image_files[i:i + images_per_page]  # Get correct images for this page\n",
    "        \n",
    "        for index, image_name in enumerate(images):\n",
    "            img = Image.open(os.path.join(input_folder, image_name))\n",
    "            img = img.resize((int(img_width), int(img_width)), Image.Resampling.LANCZOS)  # Square images\n",
    "            \n",
    "            # Calculate position with spacing\n",
    "            col = index % grid_cols\n",
    "            row = index // grid_cols\n",
    "            \n",
    "            # Calculate x position (left to right)\n",
    "            x = page_margin + col * (img_width + h_spacing)\n",
    "            \n",
    "            # Calculate y position (top to bottom)\n",
    "            y = a4_height - page_margin - (row + 1) * img_height - row * v_spacing\n",
    "            \n",
    "            # Draw image directly onto PDF\n",
    "            c.drawInlineImage(img, x, y, width=img_width, height=img_height)\n",
    "            \n",
    "        c.showPage()  # Move to the next page\n",
    "    \n",
    "    # Save the final PDF\n",
    "    c.save()\n",
    "    print(f\"PDF saved as {output_pdf}\")"
   ]
  },
  {
   "cell_type": "code",
   "execution_count": 41,
   "id": "8d814032-4838-4a6d-bb1e-4a2fb3d9bfbd",
   "metadata": {},
   "outputs": [],
   "source": [
    "def create_image_grid_pdf(input_folder, output_pdf, image_width_cm, h_spacing_cm=1.0, v_spacing_cm=1.0, dpi=300, random_shuffle=True):\n",
    "    # Constants and conversions\n",
    "    CM_TO_POINTS = 28.35  # 1 cm = 28.35 points in PDF\n",
    "    POINTS_TO_PIXELS = dpi / 72  # Convert PDF points to pixels (72 points = 1 inch)\n",
    "    \n",
    "    # Convert image width from cm to points and pixels\n",
    "    img_width_pt = img_height_pt = image_width_cm * CM_TO_POINTS\n",
    "    img_width_px = img_height_px = int(img_width_pt * POINTS_TO_PIXELS)\n",
    "    \n",
    "    # A4 dimensions in landscape and setup\n",
    "    a4_width, a4_height = landscape(A4)  # A4 in landscape mode\n",
    "    page_margin = 5  # Space around the entire page in points\n",
    "    \n",
    "    # Convert spacing from cm to points\n",
    "    h_spacing = h_spacing_cm * CM_TO_POINTS  # Horizontal spacing between images\n",
    "    v_spacing = v_spacing_cm * CM_TO_POINTS  # Vertical spacing between images\n",
    "    \n",
    "    # Calculate grid dimensions based on image size\n",
    "    usable_width = a4_width - 2 * page_margin\n",
    "    usable_height = a4_height - 2 * page_margin\n",
    "    \n",
    "    # Calculate how many images can fit in a row and column\n",
    "    grid_cols = max(1, int((usable_width + h_spacing) / (img_width_pt + h_spacing)))\n",
    "    grid_rows = max(1, int((usable_height + v_spacing) / (img_height_pt + v_spacing)))\n",
    "    images_per_page = grid_cols * grid_rows\n",
    "    \n",
    "    print(f\"Grid layout: {grid_cols} columns × {grid_rows} rows = {images_per_page} images per page\")\n",
    "    print(f\"Image size: {image_width_cm} cm × {image_width_cm} cm\")\n",
    "    print(f\"Print resolution: {dpi} DPI\")\n",
    "    print(f\"Image pixel dimensions: {img_width_px} × {img_height_px} pixels\")\n",
    "    print(f\"Spacing: {h_spacing_cm} cm horizontal, {v_spacing_cm} cm vertical\")\n",
    "    \n",
    "    # Get all images\n",
    "    image_files = sorted([f for f in os.listdir(input_folder) if f.endswith(('.png', '.jpg', '.jpeg', '.tiff', '.bmp'))])\n",
    "    if random_shuffle:\n",
    "        random.shuffle(image_files)\n",
    "    \n",
    "    # Create PDF with high quality settings\n",
    "    c = canvas.Canvas(output_pdf, pagesize=landscape(A4))\n",
    "    c.setPageCompression(0)  # Disable compression for better quality\n",
    "    \n",
    "    for i in range(0, len(image_files), images_per_page):\n",
    "        images = image_files[i:i + images_per_page]  # Get correct images for this page\n",
    "        \n",
    "        for index, image_name in enumerate(images):\n",
    "            img_path = os.path.join(input_folder, image_name)\n",
    "            \n",
    "            # Open and process the image with PIL\n",
    "            with Image.open(img_path) as img:\n",
    "                # Use high quality resampling for resizing\n",
    "                img = img.resize((img_width_px, img_height_px), Image.Resampling.LANCZOS)\n",
    "                \n",
    "                # Calculate position with spacing\n",
    "                col = index % grid_cols\n",
    "                row = index // grid_cols\n",
    "                \n",
    "                # Calculate x position (left to right)\n",
    "                x = page_margin + col * (img_width_pt + h_spacing)\n",
    "                \n",
    "                # Calculate y position (top to bottom)\n",
    "                y = a4_height - page_margin - (row + 1) * img_height_pt - row * v_spacing\n",
    "                \n",
    "                # For higher quality, save as temporary high-quality image (optional)\n",
    "                temp_img_path = f\"temp_{index}.png\"\n",
    "                img.save(temp_img_path, format=\"PNG\", dpi=(dpi, dpi))\n",
    "                \n",
    "                # Use ImageReader for better quality\n",
    "                img_reader = ImageReader(temp_img_path)\n",
    "                c.drawImage(img_reader, x, y, width=img_width_pt, height=img_height_pt, mask='auto', preserveAspectRatio=True)\n",
    "                \n",
    "                # Clean up temp file\n",
    "                if os.path.exists(temp_img_path):\n",
    "                    os.remove(temp_img_path)\n",
    "        \n",
    "        c.showPage()  # Move to the next page\n",
    "    \n",
    "    # Save the final PDF\n",
    "    c.save()\n",
    "    print(f\"PDF saved as {output_pdf}\")"
   ]
  },
  {
   "cell_type": "code",
   "execution_count": 40,
   "id": "82d41d10-9da4-4cd6-bc18-45cc26571e64",
   "metadata": {},
   "outputs": [
    {
     "name": "stdout",
     "output_type": "stream",
     "text": [
      "Grid layout: 2 columns × 2 rows = 4 images per page\n",
      "Image size: 10 cm × 10 cm\n",
      "Print resolution: 300 DPI\n",
      "Image pixel dimensions: 1181 × 1181 pixels\n",
      "Spacing: 0.3 cm horizontal, 0.3 cm vertical\n",
      "PDF saved as output/FransHals/printables/output_4.pdf\n"
     ]
    }
   ],
   "source": [
    "input_folder = \"output/FransHals/top6/\"\n",
    "output_pdf = create_unique_file_name(\"output/FransHals/printables/output.pdf\")\n",
    "\n",
    "create_image_grid_pdf(input_folder, output_pdf, 10, .3, .3, random_shuffle=False)"
   ]
  },
  {
   "cell_type": "code",
   "execution_count": 43,
   "id": "ffb45427-9497-47de-8ae0-b44adb7c6c36",
   "metadata": {},
   "outputs": [
    {
     "name": "stdout",
     "output_type": "stream",
     "text": [
      "Grid layout: 13 columns × 7 rows = 91 images per page\n",
      "Image size: 2.2 cm × 2.2 cm\n",
      "Print resolution: 300 DPI\n",
      "Image pixel dimensions: 259 × 259 pixels\n",
      "Spacing: 0 cm horizontal, 0.5 cm vertical\n",
      "PDF saved as output/FransHals/printables/output_3.pdf\n"
     ]
    }
   ],
   "source": [
    "# input_folder = \"output/FransHals/small outer/seaborn-icefire/\"\n",
    "input_folder = \"output/2025_05_05_sunset/\"\n",
    "output_pdf = create_unique_file_name(\"output/FransHals/printables/output.pdf\")\n",
    "\n",
    "create_image_grid_pdf(input_folder, output_pdf, 2.2, 0, .5, random_shuffle=False)"
   ]
  },
  {
   "cell_type": "code",
   "execution_count": null,
   "id": "f8a7b837-1d04-4293-b148-1deca0a1c2df",
   "metadata": {},
   "outputs": [],
   "source": []
  },
  {
   "cell_type": "code",
   "execution_count": null,
   "id": "a6b0f6d6-9340-4df8-9ab3-50746fa1afa8",
   "metadata": {},
   "outputs": [],
   "source": []
  },
  {
   "cell_type": "code",
   "execution_count": null,
   "id": "7b2fb8ae-02cd-4a79-b2b8-992a69fb529d",
   "metadata": {},
   "outputs": [],
   "source": []
  }
 ],
 "metadata": {
  "kernelspec": {
   "display_name": "Python 3 (ipykernel)",
   "language": "python",
   "name": "python3"
  },
  "language_info": {
   "codemirror_mode": {
    "name": "ipython",
    "version": 3
   },
   "file_extension": ".py",
   "mimetype": "text/x-python",
   "name": "python",
   "nbconvert_exporter": "python",
   "pygments_lexer": "ipython3",
   "version": "3.12.3"
  }
 },
 "nbformat": 4,
 "nbformat_minor": 5
}
