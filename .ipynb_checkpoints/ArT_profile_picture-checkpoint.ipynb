{
 "cells": [
  {
   "cell_type": "code",
   "execution_count": 19,
   "id": "8f867745-5659-4141-baac-70f82ea7e7cb",
   "metadata": {},
   "outputs": [
    {
     "name": "stdout",
     "output_type": "stream",
     "text": [
      "Collecting scikit-image\n",
      "  Downloading scikit_image-0.24.0-cp312-cp312-win_amd64.whl.metadata (14 kB)\n",
      "Requirement already satisfied: numpy>=1.23 in c:\\users\\t40165\\appdata\\local\\programs\\python\\python312\\lib\\site-packages (from scikit-image) (2.1.2)\n",
      "Requirement already satisfied: scipy>=1.9 in c:\\users\\t40165\\appdata\\local\\programs\\python\\python312\\lib\\site-packages (from scikit-image) (1.14.1)\n",
      "Collecting networkx>=2.8 (from scikit-image)\n",
      "  Downloading networkx-3.4.2-py3-none-any.whl.metadata (6.3 kB)\n",
      "Requirement already satisfied: pillow>=9.1 in c:\\users\\t40165\\appdata\\local\\programs\\python\\python312\\lib\\site-packages (from scikit-image) (11.0.0)\n",
      "Collecting imageio>=2.33 (from scikit-image)\n",
      "  Downloading imageio-2.36.1-py3-none-any.whl.metadata (5.2 kB)\n",
      "Collecting tifffile>=2022.8.12 (from scikit-image)\n",
      "  Downloading tifffile-2024.9.20-py3-none-any.whl.metadata (32 kB)\n",
      "Requirement already satisfied: packaging>=21 in c:\\users\\t40165\\appdata\\local\\programs\\python\\python312\\lib\\site-packages (from scikit-image) (24.1)\n",
      "Collecting lazy-loader>=0.4 (from scikit-image)\n",
      "  Downloading lazy_loader-0.4-py3-none-any.whl.metadata (7.6 kB)\n",
      "Downloading scikit_image-0.24.0-cp312-cp312-win_amd64.whl (12.9 MB)\n",
      "   ---------------------------------------- 0.0/12.9 MB ? eta -:--:--\n",
      "   ----------------- ---------------------- 5.5/12.9 MB 30.5 MB/s eta 0:00:01\n",
      "   ---------------------------------------  12.8/12.9 MB 35.0 MB/s eta 0:00:01\n",
      "   ---------------------------------------- 12.9/12.9 MB 30.1 MB/s eta 0:00:00\n",
      "Downloading imageio-2.36.1-py3-none-any.whl (315 kB)\n",
      "Downloading lazy_loader-0.4-py3-none-any.whl (12 kB)\n",
      "Downloading networkx-3.4.2-py3-none-any.whl (1.7 MB)\n",
      "   ---------------------------------------- 0.0/1.7 MB ? eta -:--:--\n",
      "   ---------------------------------------- 1.7/1.7 MB 31.1 MB/s eta 0:00:00\n",
      "Downloading tifffile-2024.9.20-py3-none-any.whl (228 kB)\n",
      "Installing collected packages: tifffile, networkx, lazy-loader, imageio, scikit-image\n",
      "Successfully installed imageio-2.36.1 lazy-loader-0.4 networkx-3.4.2 scikit-image-0.24.0 tifffile-2024.9.20\n"
     ]
    },
    {
     "name": "stderr",
     "output_type": "stream",
     "text": [
      "\n",
      "[notice] A new release of pip is available: 24.2 -> 24.3.1\n",
      "[notice] To update, run: python.exe -m pip install --upgrade pip\n"
     ]
    }
   ],
   "source": [
    "!pip install scikit-image"
   ]
  },
  {
   "cell_type": "code",
   "execution_count": 1,
   "id": "baab43d4-c140-4646-84d7-a2f53f8d22e4",
   "metadata": {},
   "outputs": [],
   "source": [
    "import numpy as np\n",
    "import pandas as pd\n",
    "from matplotlib import pyplot as plt\n",
    "from scipy.stats import linregress\n",
    "\n",
    "from datetime import datetime\n",
    "import random\n",
    "import os\n",
    "import seaborn as sns\n",
    "import importlib\n",
    "\n",
    "from PIL import Image\n",
    "from sklearn.cluster import KMeans"
   ]
  },
  {
   "cell_type": "code",
   "execution_count": 59,
   "id": "b80a4f62-ebcc-4406-a3d3-074d5ccf1eec",
   "metadata": {},
   "outputs": [],
   "source": [
    "import src.ArT_functions\n",
    "import src.comic_book\n",
    "import src.general_functions\n",
    "# import src.tempy\n",
    "\n",
    "importlib.reload(src.ArT_functions);\n",
    "importlib.reload(src.comic_book);\n",
    "importlib.reload(src.general_functions);\n",
    "\n",
    "from src.ArT_functions import *\n",
    "from src.comic_book import *\n",
    "from src.general_functions import *\n",
    "# from src.tempy import *"
   ]
  },
  {
   "cell_type": "code",
   "execution_count": null,
   "id": "11912547-1707-4e79-b6f0-a7721e574a0c",
   "metadata": {},
   "outputs": [],
   "source": []
  },
  {
   "cell_type": "code",
   "execution_count": 60,
   "id": "94020212-59f8-4485-b935-f2802517cdc7",
   "metadata": {},
   "outputs": [],
   "source": [
    "def process_and_save_image(input_image_path, output_image_path, alter_function=alter_image_init, num_rectangles=1000):\n",
    "    img_square = extract_square(input_image_path)\n",
    "    \n",
    "    # Alter the image\n",
    "    altered_image = alter_function(img_square, num_rectangles=num_rectangles)\n",
    "    \n",
    "    # Save the altered image with a unique name\n",
    "    output_dir, output_base_name = os.path.split(output_image_path)\n",
    "    save_image_with_unique_name(altered_image, output_image_path)#, output_dir, output_base_name)\n",
    "    \n",
    "    return altered_image"
   ]
  },
  {
   "cell_type": "code",
   "execution_count": 61,
   "id": "8576ceab-173b-4a5a-add5-5fc56b128ee4",
   "metadata": {},
   "outputs": [],
   "source": [
    "alter_functions = [\n",
    "    alter_image_init,\n",
    "    alter_image_boxes_away_from_center,\n",
    "    alter_image_boxes,\n",
    "]"
   ]
  },
  {
   "cell_type": "code",
   "execution_count": 62,
   "id": "ef30ea2d-156c-4be9-9679-ff48ab9a5d51",
   "metadata": {},
   "outputs": [
    {
     "name": "stdout",
     "output_type": "stream",
     "text": [
      "output/fragmented_image_9.jpg\n"
     ]
    }
   ],
   "source": [
    "input_image_path = 'input/1705_JesseMetz1439.jpg'\n",
    "output_image_path = 'output/fragmented_image.jpg'\n",
    "\n",
    "altered_image = process_and_save_image(\n",
    "    input_image_path,\n",
    "    output_image_path,\n",
    "    alter_function=alter_functions[1],\n",
    "    num_rectangles=1000\n",
    ")"
   ]
  },
  {
   "cell_type": "code",
   "execution_count": null,
   "id": "d8dc4f65-1bdb-46ac-be01-81847efafac5",
   "metadata": {},
   "outputs": [],
   "source": []
  },
  {
   "cell_type": "code",
   "execution_count": null,
   "id": "a6f1adf8-cc29-49ae-9e07-e319bb8353a7",
   "metadata": {},
   "outputs": [],
   "source": []
  },
  {
   "cell_type": "code",
   "execution_count": 23,
   "id": "d4d56aa7-944c-4dd5-9115-858e03b21656",
   "metadata": {},
   "outputs": [],
   "source": [
    "import numpy as np\n",
    "from PIL import Image\n",
    "from skimage.segmentation import slic\n",
    "from skimage.color import rgb2lab, lab2rgb\n",
    "from skimage.util import img_as_ubyte\n",
    "from skimage.measure import regionprops"
   ]
  },
  {
   "cell_type": "code",
   "execution_count": null,
   "id": "e3b8c697-3456-42ce-a19a-bea69000080c",
   "metadata": {},
   "outputs": [],
   "source": []
  },
  {
   "cell_type": "code",
   "execution_count": null,
   "id": "430d620f-4ffe-43cc-a3e2-e7595292f9c4",
   "metadata": {},
   "outputs": [],
   "source": []
  },
  {
   "cell_type": "code",
   "execution_count": 48,
   "id": "ad2f1b53-894f-46a4-9115-6da9a1649ae1",
   "metadata": {},
   "outputs": [
    {
     "name": "stdout",
     "output_type": "stream",
     "text": [
      "Segmented image with background saved at output/fragmented_image.jpg\n"
     ]
    }
   ],
   "source": [
    "def segment_image_with_background(img, number_of_regions, background_color=(255, 255, 255), region_size_factor=5):\n",
    "    img_array = np.array(img)\n",
    "\n",
    "    # Convert image to LAB color space for better segmentation\n",
    "    img_lab = rgb2lab(img_array)\n",
    "\n",
    "    # Calculate the maximum size per region based on the image width\n",
    "    max_region_size = img.width // region_size_factor\n",
    "\n",
    "    # Perform SLIC segmentation\n",
    "    segments = slic(\n",
    "        img_lab,\n",
    "        n_segments=number_of_regions,\n",
    "        compactness=10, \n",
    "        max_size_factor=max_region_size,\n",
    "        start_label=1,\n",
    "    )\n",
    "\n",
    "    # Identify the largest region as the background\n",
    "    regions = regionprops(segments)\n",
    "    largest_region = max(regions, key=lambda r: r.area)\n",
    "    \n",
    "    # Create a new image and fill with random colors and background color\n",
    "    segmented_img = np.zeros_like(img_array)\n",
    "    for region in regions:\n",
    "        coords = region.coords\n",
    "        if region.label == largest_region.label:\n",
    "            segmented_img[coords[:, 0], coords[:, 1]] = background_color  # Set background color\n",
    "        else:\n",
    "            random_color = np.random.randint(0, 256, size=3)  # Assign random colors to other regions\n",
    "            segmented_img[coords[:, 0], coords[:, 1]] = random_color\n",
    "\n",
    "    # Convert back to PIL image\n",
    "    segmented_img_pil = Image.fromarray(img_as_ubyte(segmented_img))\n",
    "    return segmented_img_pil\n",
    "\n",
    "cropped_img = extract_square(input_image_path)\n",
    "background_img = segment_image_with_background(cropped_img, number_of_regions=100, background_color=(255, 255, 255))\n",
    "background_img.save(output_image_path)"
   ]
  },
  {
   "cell_type": "code",
   "execution_count": null,
   "id": "da8bb9f4-78be-4c3f-80cb-28f85788db03",
   "metadata": {},
   "outputs": [],
   "source": []
  },
  {
   "cell_type": "code",
   "execution_count": 43,
   "id": "0ba5ab66-37e9-41d6-a8d6-cd5ac27f62af",
   "metadata": {},
   "outputs": [],
   "source": [
    "def segment_image_with_spatial_constraints(img, number_of_regions, region_size_factor=5, color_style=\"colors\"):\n",
    "    img_array = np.array(img)\n",
    "\n",
    "    # Convert image to LAB color space for better color segmentation\n",
    "    img_lab = rgb2lab(img_array)\n",
    "\n",
    "    # Calculate the maximum size per region based on the image width\n",
    "    max_region_size = img.width // region_size_factor\n",
    "    \n",
    "    # Perform SLIC segmentation\n",
    "    segments = slic(\n",
    "        img_lab,\n",
    "        n_segments=number_of_regions,\n",
    "        compactness=10,  # Balances color similarity and spatial proximity; adjust if needed\n",
    "        max_size_factor=max_region_size,\n",
    "        start_label=1,\n",
    "    )\n",
    "\n",
    "    # Replace each segment with a random color\n",
    "    if color_style == \"colors\":\n",
    "        segmented_img = np.zeros_like(img_array)\n",
    "        for region in regionprops(segments):\n",
    "            coords = region.coords\n",
    "            random_color = np.random.randint(0, 256, size=3)  # Generate a random RGB color\n",
    "            segmented_img[coords[:, 0], coords[:, 1]] = random_color\n",
    "    else:\n",
    "        segmented_img = np.zeros_like(img_array)\n",
    "        for region in regionprops(segments):\n",
    "            # Get pixel indices for each region\n",
    "            coords = region.coords\n",
    "            # Average the color of each region\n",
    "            average_color = np.mean(img_array[coords[:, 0], coords[:, 1]], axis=0)\n",
    "            # Fill the region with the average color\n",
    "            segmented_img[coords[:, 0], coords[:, 1]] = average_color\n",
    "\n",
    "    # Convert back to PIL image\n",
    "    segmented_img_pil = Image.fromarray(img_as_ubyte(segmented_img))\n",
    "    return segmented_img_pil"
   ]
  },
  {
   "cell_type": "code",
   "execution_count": 47,
   "id": "8f7460b2-be78-4afe-9138-0a7519e02c86",
   "metadata": {},
   "outputs": [
    {
     "data": {
      "image/jpeg": "[encoded data removed]",
      "image/png": "[encoded data removed]",
      "text/plain": [
       "<PIL.Image.Image image mode=RGB size=300x300>"
      ]
     },
     "execution_count": 47,
     "metadata": {},
     "output_type": "execute_result"
    }
   ],
   "source": [
    "cropped_img = extract_square(input_image_path, target_size=300)\n",
    "segmented_img = segment_image_with_spatial_constraints(cropped_img, number_of_regions=100, color_style=\"colors\")\n",
    "\n",
    "segmented_img"
   ]
  },
  {
   "cell_type": "code",
   "execution_count": null,
   "id": "dc93ce67-7b86-46f6-80e9-f8941e6bb8ee",
   "metadata": {},
   "outputs": [],
   "source": []
  },
  {
   "cell_type": "code",
   "execution_count": 11,
   "id": "66258ed1-c9ca-411a-b75a-99acf938f34c",
   "metadata": {},
   "outputs": [],
   "source": [
    "def segment_and_average(img, number_of_regions):\n",
    "    img_array = np.array(img)\n",
    "    \n",
    "    # Reshape the array into (number of pixels, 3) for RGB\n",
    "    pixels = img_array.reshape(-1, 3)\n",
    "    \n",
    "    # Apply K-Means clustering\n",
    "    kmeans = KMeans(n_clusters=number_of_regions, random_state=42)\n",
    "    kmeans.fit(pixels)\n",
    "    \n",
    "    # Get cluster centers (average colors) and labels (which cluster each pixel belongs to)\n",
    "    average_colors = kmeans.cluster_centers_.astype(int)\n",
    "    labels = kmeans.labels_\n",
    "    \n",
    "    # Replace pixel colors with the average color of their cluster\n",
    "    segmented_pixels = average_colors[labels]\n",
    "    \n",
    "    # Reshape the array back to the original image shape\n",
    "    segmented_img_array = segmented_pixels.reshape(img_array.shape)\n",
    "    \n",
    "    # Convert back to PIL Image\n",
    "    segmented_img = Image.fromarray(segmented_img_array.astype('uint8'))\n",
    "    return segmented_img"
   ]
  },
  {
   "cell_type": "code",
   "execution_count": 37,
   "id": "664e1349-e949-4d91-93c5-24854c885f42",
   "metadata": {},
   "outputs": [],
   "source": [
    "cropped_img = extract_square(input_image_path, target_size=300)\n",
    "\n",
    "# Segment the image into regions and average colors (e.g., 5 regions)\n",
    "segmented_img = segment_and_average(cropped_img, number_of_regions=10)\n",
    "\n",
    "# Save the segmented image\n",
    "# segmented_img.save(output_image_path)\n",
    "\n",
    "#segmented_img"
   ]
  },
  {
   "cell_type": "code",
   "execution_count": null,
   "id": "075b009c-1a4a-449d-8afb-1981cba83632",
   "metadata": {},
   "outputs": [],
   "source": []
  },
  {
   "cell_type": "code",
   "execution_count": null,
   "id": "e34bade9-86e1-4c0e-85bd-06f726644d84",
   "metadata": {},
   "outputs": [],
   "source": []
  },
  {
   "cell_type": "code",
   "execution_count": null,
   "id": "ab49fa7e-be81-4384-804d-7df6b05c26c8",
   "metadata": {},
   "outputs": [],
   "source": []
  },
  {
   "cell_type": "code",
   "execution_count": null,
   "id": "224d1827-3d09-4b11-8544-7adc2825f573",
   "metadata": {},
   "outputs": [],
   "source": []
  },
  {
   "cell_type": "code",
   "execution_count": null,
   "id": "8fb07451-201b-4982-a7ef-c55ec2ad1374",
   "metadata": {},
   "outputs": [],
   "source": []
  },
  {
   "cell_type": "code",
   "execution_count": null,
   "id": "5cf7f708-0580-42fc-b0c9-07fbf4bf3213",
   "metadata": {},
   "outputs": [],
   "source": []
  },
  {
   "cell_type": "code",
   "execution_count": null,
   "id": "b3d1a681-3c3d-4c92-b454-9ec4ff60638f",
   "metadata": {},
   "outputs": [],
   "source": []
  },
  {
   "cell_type": "code",
   "execution_count": null,
   "id": "7838b48b-6437-43ad-9c1c-160472279e4e",
   "metadata": {},
   "outputs": [],
   "source": []
  },
  {
   "cell_type": "code",
   "execution_count": null,
   "id": "34a97d59-5da1-40e7-8e23-78545e910f5b",
   "metadata": {},
   "outputs": [],
   "source": []
  },
  {
   "cell_type": "code",
   "execution_count": null,
   "id": "2a8b4153-4f51-43b2-a4ed-dc62dd12715f",
   "metadata": {},
   "outputs": [],
   "source": []
  },
  {
   "cell_type": "code",
   "execution_count": null,
   "id": "9569c097-a490-47d7-94ee-a253cf4dba22",
   "metadata": {},
   "outputs": [],
   "source": []
  }
 ],
 "metadata": {
  "kernelspec": {
   "display_name": "Python 3 (ipykernel)",
   "language": "python",
   "name": "python3"
  },
  "language_info": {
   "codemirror_mode": {
    "name": "ipython",
    "version": 3
   },
   "file_extension": ".py",
   "mimetype": "text/x-python",
   "name": "python",
   "nbconvert_exporter": "python",
   "pygments_lexer": "ipython3",
   "version": "3.12.3"
  }
 },
 "nbformat": 4,
 "nbformat_minor": 5
}
